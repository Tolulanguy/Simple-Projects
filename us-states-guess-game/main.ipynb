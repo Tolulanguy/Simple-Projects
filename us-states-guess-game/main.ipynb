{
 "cells": [
  {
   "cell_type": "code",
   "execution_count": 105,
   "id": "acb1ccbd-fd18-4754-ae74-95aeb78e82bf",
   "metadata": {},
   "outputs": [
    {
     "name": "stdout",
     "output_type": "stream",
     "text": [
      "Alabama\n",
      "Ohio\n",
      "Mississippi\n",
      "Massachusetts\n",
      "Florida\n",
      "North Carolina\n",
      "South Carolina\n",
      "California\n",
      "Colorado\n",
      "Wyoming\n",
      "Virginia\n",
      "Washington\n"
     ]
    }
   ],
   "source": [
    "import turtle\n",
    "import pandas as pd\n",
    "screen = turtle.Screen()\n",
    "screen.title(\"U.S. State Game\")\n",
    "\n",
    "image = \"blank_states_img.gif\"\n",
    "turtle.addshape(image)\n",
    "turtle.shape(image)\n",
    "\n",
    "def print_at_coord(x, y, user_input):\n",
    "    writer = turtle.Turtle()\n",
    "    writer.hideturtle()\n",
    "    writer.penup()\n",
    "    writer.goto(x, y)\n",
    "    writer.write(user_input, align=\"left\", font=(\"Arial\", \"8\", \"normal\"))\n",
    "\n",
    "def check_user_input_match(datafile, column_name, user_input):\n",
    "    df = pd.read_csv('50_states.csv')\n",
    "    user_input = user_input.strip().title() #normalizes the input incase of spaces and uppercase or lowercase.\n",
    "    input_match = df[column_name].str.strip().str.title() == user_input\n",
    "    return input_match.any()\n",
    "\n",
    "datafile = '50_states.csv'\n",
    "data_file = pd.read_csv(datafile)\n",
    "column_name = 'state'\n",
    "\n",
    "state_guess = 0\n",
    "correct_guess = []\n",
    "all_state = data_file.state.to_list()\n",
    "\n",
    "while state_guess != 50: #could also be while len(correct_guess) < 50:\n",
    "    user_input = screen.textinput(title=f\"Guess the states {state_guess}/50\", prompt=\"Guess the name of the state.\")\n",
    "    users_input = user_input.strip().title()\n",
    "\n",
    "    if user_input == \"Exit\":\n",
    "        break\n",
    "        \n",
    "    if check_user_input_match(datafile, column_name, user_input):\n",
    "        state_guess += 1\n",
    "        correct_guess.append(user_input)\n",
    "        x = data_file.loc[data_file['state'] == users_input, 'x'].values[0]\n",
    "        y = data_file.loc[data_file['state'] == users_input, 'y'].values[0]\n",
    "        #could also be state_data = data_file[data_file.state == users_input]. Then state_data.x or .y\n",
    "        print_at_coord(x, y, user_input)\n",
    "        print(user_input)\n",
    "\n",
    "not_guessed = set(all_state) - set(correct_guess)\n",
    "states_learn = pd.DataFrame(not_guessed)\n",
    "states_learn.to_csv(\"states_to_learn.csv\")\n",
    "\n",
    "\n",
    "def get_mouse_click_coor(x, y): #gets the coordinate of the mouse clicks\n",
    "    print(x, y)\n",
    "\n",
    "turtle.onscreenclick(get_mouse_click_coor) #registers/connects the coordinate for any part clicked on the screen\n",
    "#screen.exitonclick() #screen closes on click\n",
    "\n",
    "turtle.mainloop() #keeps screen open"
   ]
  },
  {
   "cell_type": "code",
   "execution_count": null,
   "id": "67887b25-9e62-47f2-9dd7-f09175aba1ee",
   "metadata": {},
   "outputs": [],
   "source": []
  }
 ],
 "metadata": {
  "kernelspec": {
   "display_name": "Python 3 (ipykernel)",
   "language": "python",
   "name": "python3"
  },
  "language_info": {
   "codemirror_mode": {
    "name": "ipython",
    "version": 3
   },
   "file_extension": ".py",
   "mimetype": "text/x-python",
   "name": "python",
   "nbconvert_exporter": "python",
   "pygments_lexer": "ipython3",
   "version": "3.11.7"
  }
 },
 "nbformat": 4,
 "nbformat_minor": 5
}
